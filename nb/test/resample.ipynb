{
 "cells": [
  {
   "cell_type": "code",
   "execution_count": 0,
   "metadata": {},
   "outputs": [],
   "source": [
    "GRID_PATH = '/datascope/subaru/data/pfsspec/models/stellar/grid/phoenix/phoenix_HiRes'"
   ]
  },
  {
   "cell_type": "code",
   "execution_count": 0,
   "metadata": {},
   "outputs": [],
   "source": [
    "import os, sys\n",
    "\n",
    "# Allow load project as module\n",
    "sys.path.insert(0, '../../../../python')"
   ]
  },
  {
   "cell_type": "code",
   "execution_count": 0,
   "metadata": {},
   "outputs": [],
   "source": [
    "%matplotlib inline"
   ]
  },
  {
   "cell_type": "code",
   "execution_count": 0,
   "metadata": {},
   "outputs": [],
   "source": [
    "import os\n",
    "import matplotlib.pyplot as plt\n",
    "import numpy as np\n",
    "import pandas as pd\n",
    "import h5py"
   ]
  },
  {
   "cell_type": "code",
   "execution_count": 0,
   "metadata": {},
   "outputs": [],
   "source": [
    "%load_ext autoreload"
   ]
  },
  {
   "cell_type": "code",
   "execution_count": 0,
   "metadata": {},
   "outputs": [],
   "source": [
    "%autoreload 2"
   ]
  },
  {
   "cell_type": "markdown",
   "metadata": {},
   "source": [
    "# Open stellar grid"
   ]
  },
  {
   "cell_type": "code",
   "execution_count": 0,
   "metadata": {},
   "outputs": [],
   "source": [
    "from pfs.ga.pfsspec.core.grid import ArrayGrid\n",
    "from pfs.ga.pfsspec.stellar.grid import ModelGrid\n",
    "from pfs.ga.pfsspec.stellar.grid.bosz import Bosz\n",
    "from pfs.ga.pfsspec.stellar.grid.phoenix import Phoenix"
   ]
  },
  {
   "cell_type": "code",
   "execution_count": 0,
   "metadata": {},
   "outputs": [],
   "source": [
    "fn = os.path.join(GRID_PATH, 'spectra.h5')\n",
    "grid = ModelGrid(Phoenix(), ArrayGrid)\n",
    "grid.wave_lim = [3000, 9000]\n",
    "grid.preload_arrays = False\n",
    "grid.load(fn, format='h5')"
   ]
  },
  {
   "cell_type": "markdown",
   "metadata": {},
   "source": [
    "# Resampling"
   ]
  },
  {
   "cell_type": "code",
   "execution_count": 0,
   "metadata": {},
   "outputs": [],
   "source": [
    "from pfs.ga.pfsspec.core.obsmod.psf import VelocityDispersion\n",
    "from pfs.ga.pfsspec.core.obsmod.resampling import *"
   ]
  },
  {
   "cell_type": "code",
   "execution_count": 0,
   "metadata": {},
   "outputs": [],
   "source": [
    "model = grid.get_model(M_H=0, T_eff=4500, log_g=1, a_M=0, )\n",
    "model.wave.shape, model.flux.shape, model.wave[0], model.wave[-1]\n",
    "\n",
    "psf = VelocityDispersion(vdisp=1, reuse_kernel=True)\n",
    "s = psf.get_optimal_size(model.wave)\n",
    "\n",
    "model.convolve_psf(psf, size=s)"
   ]
  },
  {
   "cell_type": "code",
   "execution_count": 0,
   "metadata": {},
   "outputs": [],
   "source": [
    "model.wave[[0, 1, 2, -3, -2, -1]], np.diff(model.wave)[[0, 1, -2, -1]]"
   ]
  },
  {
   "cell_type": "code",
   "execution_count": 0,
   "metadata": {},
   "outputs": [],
   "source": [
    "wave_edges = FluxConservingResampler().find_wave_edges(model.wave)\n",
    "wave_edges[[0, 1, -2, -1]], np.diff(wave_edges)[[0, 1, -2, -1]]"
   ]
  },
  {
   "cell_type": "code",
   "execution_count": 0,
   "metadata": {},
   "outputs": [],
   "source": [
    "plt.plot(model.wave, np.diff(wave_edges))"
   ]
  },
  {
   "cell_type": "code",
   "execution_count": 0,
   "metadata": {},
   "outputs": [],
   "source": [
    "# Target wave\n",
    "\n",
    "#wave_edges = np.linspace(8000, 8500, 501)\n",
    "#wave_edges = np.linspace(3001, 3021, 21)\n",
    "wave_edges = np.linspace(8200, 8215, 16)\n",
    "\n",
    "wave = 0.5 * (wave_edges[1:] + wave_edges[:-1])\n",
    "\n",
    "res = Interp1dResampler(kind='linear')\n",
    "model_interp1d = model.copy()\n",
    "model_interp1d.apply_resampler(res, wave, wave_edges)\n",
    "\n",
    "res = FluxConservingResampler()\n",
    "model_cumsum = model.copy()\n",
    "model_cumsum.apply_resampler(res, wave, wave_edges)\n",
    "\n",
    "res = PysynphotResampler()\n",
    "model_synphot = model.copy()\n",
    "model_synphot.apply_resampler(res, wave, wave_edges)\n",
    "\n",
    "res = SpecutilsResampler()\n",
    "model_specutils = model.copy()\n",
    "model_specutils.apply_resampler(res, wave, wave_edges)"
   ]
  },
  {
   "cell_type": "code",
   "execution_count": 0,
   "metadata": {},
   "outputs": [],
   "source": [
    "f, axs = plt.subplots(2, 1, figsize=(5, 5), dpi=300)\n",
    "\n",
    "ax = axs[0]\n",
    "ax.step(model.wave, model.flux, where='mid', lw=0.3, label='model')\n",
    "ax.step(model_interp1d.wave, model_interp1d.flux, where='mid', lw=0.3, label='interp1d')\n",
    "ax.step(model_cumsum.wave, model_cumsum.flux, where='mid', lw=0.3, label='cumsum trick')\n",
    "ax.step(model_synphot.wave, model_synphot.flux, where='mid', lw=0.3, label='synphot')\n",
    "ax.step(model_specutils.wave, model_specutils.flux, where='mid', lw=0.5, label='specutils')\n",
    "\n",
    "ax.legend(ncol=3)\n",
    "\n",
    "ax.set_xlim(8200, 8215)\n",
    "ax.set_ylim(0.5e14, 2.0e14)\n",
    "\n",
    "#ax.set_xlim(3000, 3015)\n",
    "#ax.set_ylim(0, 0.35e13)\n",
    "\n",
    "ax = axs[1]\n",
    "\n",
    "ax.step(model_specutils.wave, (model_cumsum.flux - model_specutils.flux) /  model_cumsum.flux, where='mid', lw=0.5, label='specutils')"
   ]
  },
  {
   "cell_type": "markdown",
   "metadata": {},
   "source": [
    "# Illustration of the method"
   ]
  },
  {
   "cell_type": "code",
   "execution_count": 0,
   "metadata": {},
   "outputs": [],
   "source": [
    "# Generate some random spectrum\n",
    "\n",
    "wave_edges = np.linspace(0, 10, 41)\n",
    "wave = (wave_edges[1:] + wave_edges[:-1]) / 2\n",
    "flux = np.random.randint(0, 5, size=wave.shape).astype(np.float64)\n",
    "\n",
    "nwave_edges = np.linspace(1.1, 8.7, 8)\n",
    "nwave = (nwave_edges[1:] + nwave_edges[:-1]) / 2"
   ]
  },
  {
   "cell_type": "code",
   "execution_count": 0,
   "metadata": {},
   "outputs": [],
   "source": [
    "# Use the actual model\n",
    "\n",
    "wave_edges = FluxConservingResampler().find_wave_edges(model.wave)\n",
    "wave = model.wave\n",
    "flux = model.flux\n",
    "\n",
    "# print(model.wave.shape, wave_edges.shape)\n",
    "# #idx = np.digitize([8202, 8206], wave_edges)\n",
    "# #idx = np.digitize([8200, 8215], wave_edges)\n",
    "# #idx = np.digitize([3000, 3015], wave_edges)\n",
    "# idx = np.digitize([3000, 8300], wave_edges)\n",
    "# print(idx)\n",
    "# wave_edges = wave_edges[idx[0]:idx[1]]\n",
    "# wave = model.wave[idx[0]+1:idx[1]]\n",
    "# flux = model.flux[idx[0]+1:idx[1]]\n",
    "\n",
    "#nwave_edges = np.linspace(8202.5, 8205.5, 8)\n",
    "#nwave_edges = np.linspace(8200, 8215, 16)\n",
    "#nwave_edges = np.linspace(3001, 3021, 21)\n",
    "nwave_edges = np.linspace(3001, 8300, 5301)\n",
    "nwave = (nwave_edges[1:] + nwave_edges[:-1]) / 2\n",
    "\n",
    "wave.shape, wave_edges.shape"
   ]
  },
  {
   "cell_type": "code",
   "execution_count": 0,
   "metadata": {},
   "outputs": [],
   "source": [
    "from scipy.interpolate import interp1d\n",
    "\n",
    "def steps(wave_edges, flux):\n",
    "    we = np.stack([wave_edges[:-1], wave_edges[1:]], axis=-1).flatten()\n",
    "    fl = np.stack(2 * [flux], axis=-1).flatten()\n",
    "    return we, fl\n",
    "\n",
    "if True:\n",
    "    # cumsum resampling\n",
    "    bs = wave_edges[1:] - wave_edges[:-1]       # bin size\n",
    "    cs = np.empty_like(wave_edges)\n",
    "    cs[0] = 0\n",
    "    cs[1:] = np.cumsum(flux * bs)\n",
    "\n",
    "    # interpolate to the new grid\n",
    "    ip = interp1d(wave_edges, cs, bounds_error=False, fill_value=(0, cs[-1]))\n",
    "    nflux = np.diff(ip(nwave_edges)) / np.diff(nwave_edges)\n",
    "\n",
    "if False:\n",
    "    res = FluxConservingResampler()\n",
    "    res.init(nwave, nwave_edges)\n",
    "    nflux, _ = res.resample_value(wave, wave_edges, flux)\n",
    "    res.reset()\n",
    "\n",
    "if False:\n",
    "    # specutils resamplings\n",
    "    from astropy import units as u\n",
    "    from specutils import Spectrum1D\n",
    "    from specutils.manipulation import FluxConservingResampler as specutils_fcr\n",
    "\n",
    "    s = Spectrum1D(spectral_axis=wave * u.AA, flux=flux * u.Unit('erg cm-2 s-1 AA-1'))\n",
    "    ns = specutils_fcr()(s, nwave * u.AA)\n",
    "    nflux_su = ns.flux.value"
   ]
  },
  {
   "cell_type": "code",
   "execution_count": 0,
   "metadata": {},
   "outputs": [],
   "source": [
    "f, axs = plt.subplots(2, 1, figsize=(6, 6), dpi=240)\n",
    "\n",
    "ax = axs[0]\n",
    "ax.plot(*steps(wave_edges, flux), '.-')\n",
    "ax.plot(*steps(nwave_edges, nflux), '.-')\n",
    "#ax.plot(*steps(nwave_edges, nflux_su), '.--')\n",
    "#ax.set_ylim(0.5e14, 2.0e14)\n",
    "#ax.set_ylim(0.5e14, 2.0e14)\n",
    "ax.set_ylabel(r'$F_\\lambda$')\n",
    "\n",
    "### ### ### ### ###\n",
    "\n",
    "ax = axs[1]\n",
    "#ax.step(wave_edges, cs, where='mid')\n",
    "ax.plot(wave_edges, cs, '.-')\n",
    "ax.plot(nwave_edges, ip(nwave_edges), '.')\n",
    "ax.set_ylabel(r'cummulative $F$')\n",
    "\n",
    "for ax in axs:\n",
    "    ax.grid()\n",
    "\n",
    "    ax.set_xlim(-1, 11)\n",
    "    #ax.set_xlim(8200, 8215)\n",
    "    #ax.set_xlim(3000, 3015)"
   ]
  },
  {
   "cell_type": "code",
   "execution_count": 0,
   "metadata": {},
   "outputs": [],
   "source": []
  }
 ],
 "metadata": {
  "kernelspec": {
   "display_name": "Python 3.7.6 ('astro-dnn')",
   "language": "python",
   "name": "python3"
  },
  "language_info": {
   "codemirror_mode": {
    "name": "ipython",
    "version": 3
   },
   "file_extension": ".py",
   "mimetype": "text/x-python",
   "name": "python",
   "nbconvert_exporter": "python",
   "pygments_lexer": "ipython3",
   "version": "3.7.6"
  },
  "vscode": {
   "interpreter": {
    "hash": "5a67ff4efb25b8aabbb759a9c23213a4102b92e186db45108ff57ab5b324cee0"
   }
  }
 },
 "nbformat": 4,
 "nbformat_minor": 2
}