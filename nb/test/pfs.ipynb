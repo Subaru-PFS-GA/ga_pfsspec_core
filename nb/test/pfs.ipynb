{
 "cells": [
  {
   "cell_type": "code",
   "execution_count": 0,
   "metadata": {},
   "outputs": [],
   "source": [
    "GRID_PATH = '/datascope/subaru/data/pfsspec/models/stellar/grid/phoenix/phoenix_HiRes'"
   ]
  },
  {
   "cell_type": "code",
   "execution_count": 0,
   "metadata": {},
   "outputs": [],
   "source": [
    "import os, sys\n",
    "\n",
    "# Allow load project as module\n",
    "sys.path.insert(0, '../../../..')"
   ]
  },
  {
   "cell_type": "code",
   "execution_count": 0,
   "metadata": {},
   "outputs": [],
   "source": [
    "%matplotlib inline"
   ]
  },
  {
   "cell_type": "code",
   "execution_count": 0,
   "metadata": {},
   "outputs": [],
   "source": [
    "import os\n",
    "import matplotlib.pyplot as plt\n",
    "import numpy as np\n",
    "import pandas as pd\n",
    "import h5py"
   ]
  },
  {
   "cell_type": "markdown",
   "metadata": {},
   "source": [
    "# Open stellar grid"
   ]
  },
  {
   "cell_type": "code",
   "execution_count": 0,
   "metadata": {},
   "outputs": [],
   "source": [
    "from pfs.ga.pfsspec.core.grid import ArrayGrid\n",
    "from pfs.ga.pfsspec.stellar.grid import ModelGrid\n",
    "from pfs.ga.pfsspec.stellar.grid.bosz import Bosz\n",
    "from pfs.ga.pfsspec.stellar.grid.phoenix import Phoenix"
   ]
  },
  {
   "cell_type": "code",
   "execution_count": 0,
   "metadata": {},
   "outputs": [],
   "source": [
    "fn = os.path.join(GRID_PATH, 'spectra.h5')\n",
    "grid = ModelGrid(Phoenix(), ArrayGrid)\n",
    "grid.wave_lim = [3000, 9000]\n",
    "grid.preload_arrays = False\n",
    "grid.load(fn, format='h5')"
   ]
  },
  {
   "cell_type": "markdown",
   "metadata": {},
   "source": [
    "# Velocity dispersion"
   ]
  },
  {
   "cell_type": "code",
   "execution_count": 0,
   "metadata": {},
   "outputs": [],
   "source": [
    "from pfs.ga.pfsspec.core.psf import VelocityDispersion"
   ]
  },
  {
   "cell_type": "code",
   "execution_count": 0,
   "metadata": {},
   "outputs": [],
   "source": [
    "model = grid.get_model(M_H=0, T_eff=4500, log_g=1, a_M=0, )\n",
    "\n",
    "model.wave.shape, model.flux.shape"
   ]
  },
  {
   "cell_type": "code",
   "execution_count": 0,
   "metadata": {},
   "outputs": [],
   "source": [
    "np.min(model.flux), np.max(model.flux)"
   ]
  },
  {
   "cell_type": "code",
   "execution_count": 0,
   "metadata": {},
   "outputs": [],
   "source": [
    "psf = VelocityDispersion(vdisp=1000, reuse_kernel=True)\n",
    "s = psf.get_optimal_size(model.wave)"
   ]
  },
  {
   "cell_type": "code",
   "execution_count": 0,
   "metadata": {},
   "outputs": [],
   "source": [
    "cwave, cflux, _, shift = psf.convolve(model.wave, model.flux, size=s, normalize=True)\n",
    "cwave.shape, cflux.shape, shift, s"
   ]
  },
  {
   "cell_type": "code",
   "execution_count": 0,
   "metadata": {},
   "outputs": [],
   "source": [
    "f, ax = plt.subplots(1, 1, figsize=(12, 4), dpi=200)\n",
    "\n",
    "ax.plot(model.wave, model.flux, lw=0.1)\n",
    "ax.plot(cwave, cflux, lw=1)\n",
    "\n",
    "#ax.set_xlim(3000, 4500)\n",
    "#ax.set_xlim(6000, 7500)"
   ]
  },
  {
   "cell_type": "markdown",
   "metadata": {},
   "source": [
    "# Using the PCA-trick"
   ]
  },
  {
   "cell_type": "code",
   "execution_count": 0,
   "metadata": {},
   "outputs": [],
   "source": [
    "from pfs.ga.pfsspec.core.psf import PcaPsf"
   ]
  },
  {
   "cell_type": "code",
   "execution_count": 0,
   "metadata": {},
   "outputs": [],
   "source": [
    "vdisp = VelocityDispersion(vdisp=1000, reuse_kernel=True)\n",
    "s = vdisp.get_optimal_size(model.wave)\n",
    "s"
   ]
  },
  {
   "cell_type": "code",
   "execution_count": 0,
   "metadata": {},
   "outputs": [],
   "source": [
    "k, idx, shift = vdisp.eval_kernel(model.wave, size=s, normalize=True)\n",
    "k.shape, idx.shape, shift"
   ]
  },
  {
   "cell_type": "code",
   "execution_count": 0,
   "metadata": {},
   "outputs": [],
   "source": [
    "pca = PcaPsf.from_psf(vdisp, model.wave, size=s, normalize=True, truncate=200)\n",
    "pca.mean.shape, pca.eigs.shape, pca.pc.shape"
   ]
  },
  {
   "cell_type": "code",
   "execution_count": 0,
   "metadata": {},
   "outputs": [],
   "source": [
    "f, ax = plt.subplots(1, 1, figsize=(6, 4), dpi=120)\n",
    "\n",
    "ax.plot(np.log10(np.arange(pca.eigs.size) + 1), np.log10(pca.eigs))\n",
    "ax.set_xlabel('log10 order')\n",
    "ax.set_xlabel('log10 eigenvalue')\n",
    "ax.set_title('Eigenvalue spectrum of PCA on kernels')"
   ]
  },
  {
   "cell_type": "code",
   "execution_count": 0,
   "metadata": {},
   "outputs": [],
   "source": [
    "awave, aflux, _, shift = pca.convolve(model.wave, model.flux)\n",
    "awave.shape, aflux.shape, shift, s"
   ]
  },
  {
   "cell_type": "code",
   "execution_count": 0,
   "metadata": {},
   "outputs": [],
   "source": [
    "f, ax = plt.subplots(1, 1, figsize=(6, 4), dpi=200)\n",
    "\n",
    "ax.plot(model.wave, model.flux, lw=0.1)\n",
    "ax.plot(cwave, cflux, lw=1)\n",
    "ax.plot(awave, aflux, lw=1)\n",
    "\n",
    "#ax.set_xlim(3000, 4500)\n",
    "#ax.set_xlim(6000, 7500)"
   ]
  },
  {
   "cell_type": "code",
   "execution_count": 0,
   "metadata": {},
   "outputs": [],
   "source": [
    "f, ax = plt.subplots(1, 1, figsize=(6, 3), dpi=120)\n",
    "\n",
    "ax.plot(cwave, (cflux - aflux) / cflux, lw=0.1)\n",
    "\n",
    "#ax.set_xlim(3000, 4500)\n",
    "#ax.set_xlim(6000, 7500)\n",
    "\n",
    "ax.set_xlabel('wavelength [A]')\n",
    "ax.set_ylabel('relative error of convolution')\n",
    "ax.set_title(f'relative difference of PCA and direct convolution, k={pca.eigs.size}')"
   ]
  },
  {
   "cell_type": "code",
   "execution_count": 0,
   "metadata": {},
   "outputs": [],
   "source": [
    "cflux - aflux"
   ]
  },
  {
   "cell_type": "code",
   "execution_count": 0,
   "metadata": {},
   "outputs": [],
   "source": []
  }
 ],
 "metadata": {
  "kernelspec": {
   "display_name": "Python 3.7.6 ('astro-dnn')",
   "language": "python",
   "name": "python3"
  },
  "language_info": {
   "codemirror_mode": {
    "name": "ipython",
    "version": 3
   },
   "file_extension": ".py",
   "mimetype": "text/x-python",
   "name": "python",
   "nbconvert_exporter": "python",
   "pygments_lexer": "ipython3",
   "version": "3.7.6"
  },
  "vscode": {
   "interpreter": {
    "hash": "5a67ff4efb25b8aabbb759a9c23213a4102b92e186db45108ff57ab5b324cee0"
   }
  }
 },
 "nbformat": 4,
 "nbformat_minor": 2
}