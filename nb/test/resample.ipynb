{
 "cells": [
  {
   "cell_type": "code",
   "execution_count": 0,
   "metadata": {},
   "outputs": [],
   "source": [
    "GRID_PATH = '/datascope/subaru/data/pfsspec/models/stellar/grid/phoenix/phoenix_HiRes'"
   ]
  },
  {
   "cell_type": "code",
   "execution_count": 0,
   "metadata": {},
   "outputs": [],
   "source": [
    "import os, sys\n",
    "\n",
    "# Allow load project as module\n",
    "sys.path.insert(0, '../../../../python')"
   ]
  },
  {
   "cell_type": "code",
   "execution_count": 0,
   "metadata": {},
   "outputs": [],
   "source": [
    "%matplotlib inline"
   ]
  },
  {
   "cell_type": "code",
   "execution_count": 0,
   "metadata": {},
   "outputs": [],
   "source": [
    "import os\n",
    "import matplotlib.pyplot as plt\n",
    "import numpy as np\n",
    "import pandas as pd\n",
    "import h5py"
   ]
  },
  {
   "cell_type": "markdown",
   "metadata": {},
   "source": [
    "# Open stellar grid"
   ]
  },
  {
   "cell_type": "code",
   "execution_count": 0,
   "metadata": {},
   "outputs": [],
   "source": [
    "from pfs.ga.pfsspec.core.grid import ArrayGrid\n",
    "from pfs.ga.pfsspec.stellar.grid import ModelGrid\n",
    "from pfs.ga.pfsspec.stellar.grid.bosz import Bosz\n",
    "from pfs.ga.pfsspec.stellar.grid.phoenix import Phoenix"
   ]
  },
  {
   "cell_type": "code",
   "execution_count": 0,
   "metadata": {},
   "outputs": [],
   "source": [
    "fn = os.path.join(GRID_PATH, 'spectra.h5')\n",
    "grid = ModelGrid(Phoenix(), ArrayGrid)\n",
    "grid.wave_lim = [3000, 9000]\n",
    "grid.preload_arrays = False\n",
    "grid.load(fn, format='h5')"
   ]
  },
  {
   "cell_type": "markdown",
   "metadata": {},
   "source": [
    "# Resampling"
   ]
  },
  {
   "cell_type": "code",
   "execution_count": 0,
   "metadata": {},
   "outputs": [],
   "source": [
    "from pfs.ga.pfsspec.core.obsmod.psf import VelocityDispersion\n",
    "from pfs.ga.pfsspec.core.obsmod.resampling import *"
   ]
  },
  {
   "cell_type": "code",
   "execution_count": 0,
   "metadata": {},
   "outputs": [],
   "source": [
    "model = grid.get_model(M_H=0, T_eff=4500, log_g=1, a_M=0, )\n",
    "model.wave.shape, model.flux.shape, model.wave[0], model.wave[-1]\n",
    "\n",
    "psf = VelocityDispersion(vdisp=1, reuse_kernel=True)\n",
    "s = psf.get_optimal_size(model.wave)\n",
    "\n",
    "model.convolve_psf(psf, size=s)"
   ]
  },
  {
   "cell_type": "code",
   "execution_count": 0,
   "metadata": {},
   "outputs": [],
   "source": [
    "wave_edges = np.linspace(8000, 8500, 501)\n",
    "wave = 0.5 * (wave_edges[1:] + wave_edges[:-1])\n",
    "\n",
    "res = Interp1dResampler()\n",
    "model_interp1d = model.copy()\n",
    "model_interp1d.apply_resampler(res, wave, wave_edges)\n",
    "\n",
    "res = FluxConservingResampler()\n",
    "model_cumsum = model.copy()\n",
    "model_cumsum.apply_resampler(res, wave, wave_edges)\n",
    "\n",
    "res = PysynphotResampler()\n",
    "model_synphot = model.copy()\n",
    "model_synphot.apply_resampler(res, wave, wave_edges)"
   ]
  },
  {
   "cell_type": "code",
   "execution_count": 0,
   "metadata": {},
   "outputs": [],
   "source": [
    "f, ax = plt.subplots(1, 1, figsize=(5, 2.5), dpi=300)\n",
    "\n",
    "ax.step(model.wave, model.flux, where='mid', lw=0.3, label='model')\n",
    "ax.step(model_interp1d.wave, model_interp1d.flux, where='mid', lw=0.3, label='interp1d')\n",
    "ax.step(model_cumsum.wave, model_cumsum.flux, where='mid', lw=0.3, label='cumsum trick')\n",
    "ax.step(model_synphot.wave, model_synphot.flux, where='mid', lw=0.3, label='synphot')\n",
    "\n",
    "ax.set_xlim(8200, 8215)\n",
    "ax.set_ylim(0.8e14, 2.0e14)"
   ]
  },
  {
   "cell_type": "code",
   "execution_count": 0,
   "metadata": {},
   "outputs": [],
   "source": []
  }
 ],
 "metadata": {
  "kernelspec": {
   "display_name": "Python 3.7.6 ('astro-dnn')",
   "language": "python",
   "name": "python3"
  },
  "language_info": {
   "codemirror_mode": {
    "name": "ipython",
    "version": 3
   },
   "file_extension": ".py",
   "mimetype": "text/x-python",
   "name": "python",
   "nbconvert_exporter": "python",
   "pygments_lexer": "ipython3",
   "version": "3.7.6"
  },
  "vscode": {
   "interpreter": {
    "hash": "5a67ff4efb25b8aabbb759a9c23213a4102b92e186db45108ff57ab5b324cee0"
   }
  }
 },
 "nbformat": 4,
 "nbformat_minor": 2
}